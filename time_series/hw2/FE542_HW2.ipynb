{
 "cells": [
  {
   "cell_type": "markdown",
   "metadata": {},
   "source": [
    "## FE542 Time Series Analysis Homework # 2\n",
    "Justin Dano\n",
    "<br>March 3rd, 2019"
   ]
  },
  {
   "cell_type": "markdown",
   "metadata": {},
   "source": [
    "![caption](../student_ethics.jpg)"
   ]
  },
  {
   "cell_type": "markdown",
   "metadata": {},
   "source": [
    "# Problem 1"
   ]
  },
  {
   "cell_type": "markdown",
   "metadata": {},
   "source": [
    "![caption](hw2_1.png)"
   ]
  },
  {
   "cell_type": "code",
   "execution_count": 1,
   "metadata": {},
   "outputs": [],
   "source": [
    "import numpy as np\n",
    "import pandas as pd\n",
    "import matplotlib.pyplot as plt\n",
    "import statsmodels.tsa.api as smt\n",
    "from statsmodels.tsa.ar_model import AR\n",
    "from statsmodels.tsa.arima_process import arma_generate_sample\n",
    "np.random.seed(1) "
   ]
  },
  {
   "cell_type": "markdown",
   "metadata": {},
   "source": [
    "## 1.A - Generate terms of AR(3) model"
   ]
  },
  {
   "cell_type": "code",
   "execution_count": 2,
   "metadata": {},
   "outputs": [],
   "source": [
    "def ar3(a1, a2, a3, wnv, sample_size):\n",
    "    \"\"\"\n",
    "    AR(3) model \n",
    "    Params: \n",
    "        a1  -       float : t-1 weight parameter\n",
    "        a2  -       float : t-2 weight parameter\n",
    "        a3  -       float : t-3 weight parameter\n",
    "        wnv -         int : variance for our white noise\n",
    "        sample_size - int : size of process     \n",
    "    Returns:\n",
    "        numpy.Array - AR process\n",
    "    \"\"\"\n",
    "    wn = np.random.normal(scale=np.sqrt(wnv), size=sample_size)  # Numpy takes SD \n",
    "    r = np.zeros(sample_size)\n",
    "    r[1], r[2] = 0.001, -0.001 \n",
    "    \n",
    "    for t in range(3, sample_size):        \n",
    "        r[t] = 0.01 + a1*(r[t-1] - 0.01) + a2*(r[t-2] - 0.01) + a3*(r[t-3] - 0.01) + wn[t]\n",
    "        \n",
    "    return r\n",
    "\n",
    "\n",
    "def empirical_mean(process):\n",
    "    \"\"\"\n",
    "    Estimate mean\n",
    "    \n",
    "    Params:\n",
    "        process  - numpy.Array : The AR process \n",
    "    Returns:\n",
    "        float : the mean of the process\n",
    "    \"\"\"\n",
    "    return process.mean()\n",
    "\n",
    "\n",
    "def empirical_var(process):\n",
    "    \"\"\"\n",
    "    Estimate variance\n",
    "    \n",
    "    Params:\n",
    "        process  - numpy.Array : The AR process \n",
    "    Returns:\n",
    "        float : the variance of the process\n",
    "    \"\"\"\n",
    "    return process.var(ddof=1, dtype=np.float64)\n",
    "\n",
    "\n",
    "def emprical_ac(process, lag_term):\n",
    "    \"\"\"\n",
    "    Estimate autocorrelation\n",
    "    \n",
    "    Params:\n",
    "        process  - numpy.Array : The AR process \n",
    "        lag_term - int         : Auto correlation term\n",
    "    Returns:\n",
    "        float : Pearson autocorrelation \n",
    "    \"\"\"\n",
    "    return pd.Series(process).autocorr(lag_term)"
   ]
  },
  {
   "cell_type": "code",
   "execution_count": 3,
   "metadata": {},
   "outputs": [],
   "source": [
    "n_samples = 1000\n",
    "white_noise_variance = 0.0001\n",
    "alpha1 = 0.4\n",
    "alpha2 = 0.3\n",
    "alpha3 = 0.23\n",
    "\n",
    "ar_process1 = ar3(alpha1, alpha2, alpha3, white_noise_variance, n_samples)\n",
    "ar_process2 = ar3(alpha1, alpha2, alpha3, white_noise_variance, 1000000)"
   ]
  },
  {
   "cell_type": "markdown",
   "metadata": {},
   "source": [
    "## 1.B - Estimate mean, variance, and autocorrelation values"
   ]
  },
  {
   "cell_type": "code",
   "execution_count": 4,
   "metadata": {},
   "outputs": [],
   "source": [
    "# 1000 Samples\n",
    "ar_params1 = {'mean':     empirical_mean(ar_process1), \n",
    "              'variance': empirical_var(ar_process1), \n",
    "              'p1':       emprical_ac(ar_process1, 1), \n",
    "              'p2':       emprical_ac(ar_process1, 2), \n",
    "              'p3':       emprical_ac(ar_process1, 3)}\n",
    "\n",
    "# 1000000 Samples\n",
    "ar_params2 = {'mean':     empirical_mean(ar_process2), \n",
    "              'variance': empirical_var(ar_process2), \n",
    "              'p1':       emprical_ac(ar_process2, 1), \n",
    "              'p2':       emprical_ac(ar_process2, 2), \n",
    "              'p3':       emprical_ac(ar_process2, 3)}"
   ]
  },
  {
   "cell_type": "markdown",
   "metadata": {},
   "source": [
    "## 1.C - Calculate theoretical mean and autocorrelation values"
   ]
  },
  {
   "cell_type": "markdown",
   "metadata": {},
   "source": [
    "![caption](fe542_hw2_1cp1.jpg)\n",
    "![caption](fe542_hw2_1cp2.jpg)\n",
    "![caption](fe542_hw2_1cp3.jpg)"
   ]
  },
  {
   "cell_type": "code",
   "execution_count": 67,
   "metadata": {},
   "outputs": [
    {
     "data": {
      "text/html": [
       "<div>\n",
       "<style scoped>\n",
       "    .dataframe tbody tr th:only-of-type {\n",
       "        vertical-align: middle;\n",
       "    }\n",
       "\n",
       "    .dataframe tbody tr th {\n",
       "        vertical-align: top;\n",
       "    }\n",
       "\n",
       "    .dataframe thead th {\n",
       "        text-align: right;\n",
       "    }\n",
       "</style>\n",
       "<table border=\"1\" class=\"dataframe\">\n",
       "  <thead>\n",
       "    <tr style=\"text-align: right;\">\n",
       "      <th></th>\n",
       "      <th>mean</th>\n",
       "      <th>variance</th>\n",
       "      <th>p1</th>\n",
       "      <th>p2</th>\n",
       "      <th>p3</th>\n",
       "    </tr>\n",
       "  </thead>\n",
       "  <tbody>\n",
       "    <tr>\n",
       "      <th>ar3_small</th>\n",
       "      <td>0.015454</td>\n",
       "      <td>0.000300</td>\n",
       "      <td>0.775520</td>\n",
       "      <td>0.766394</td>\n",
       "      <td>0.731867</td>\n",
       "    </tr>\n",
       "    <tr>\n",
       "      <th>ar3_large</th>\n",
       "      <td>0.010089</td>\n",
       "      <td>0.000448</td>\n",
       "      <td>0.846144</td>\n",
       "      <td>0.833674</td>\n",
       "      <td>0.817674</td>\n",
       "    </tr>\n",
       "    <tr>\n",
       "      <th>theoretical</th>\n",
       "      <td>0.010000</td>\n",
       "      <td>0.000740</td>\n",
       "      <td>0.845000</td>\n",
       "      <td>0.832000</td>\n",
       "      <td>0.816300</td>\n",
       "    </tr>\n",
       "  </tbody>\n",
       "</table>\n",
       "</div>"
      ],
      "text/plain": [
       "                 mean  variance        p1        p2        p3\n",
       "ar3_small    0.015454  0.000300  0.775520  0.766394  0.731867\n",
       "ar3_large    0.010089  0.000448  0.846144  0.833674  0.817674\n",
       "theoretical  0.010000  0.000740  0.845000  0.832000  0.816300"
      ]
     },
     "execution_count": 67,
     "metadata": {},
     "output_type": "execute_result"
    }
   ],
   "source": [
    "theoretical_params = {'mean': 0.01, 'variance': 0.00074, 'p1': 0.845, 'p2': 0.832, 'p3':0.8163}\n",
    "\n",
    "parameter_table = pd.DataFrame(index=['ar3_small', 'ar3_large', 'theoretical'], \n",
    "                               columns=['mean', 'variance', 'p1', 'p2', 'p3'], \n",
    "                               data=[ar_params1, ar_params2, theoretical_params])\n",
    "parameter_table"
   ]
  },
  {
   "cell_type": "markdown",
   "metadata": {},
   "source": [
    "For theoretical paramters we have mean = 0.01, variance = 0.0007 with autocorrelation terms p0 = 1, p1 = 0.845, p2 = 0.832, and p3 = 0.8163. It is clear that the emperical estimates of the mean and autocorrelation terms are very close to their theoretical values. As the number of samples increase, the emperical estimates converge to their theoretical values. This is shown by row ar3_large which has 1,000,000 samples (compared to ar3_small with only 1,000 samples)."
   ]
  },
  {
   "cell_type": "markdown",
   "metadata": {},
   "source": [
    "## 1.D - ARIMA simulation and compute parameters"
   ]
  },
  {
   "cell_type": "code",
   "execution_count": 69,
   "metadata": {},
   "outputs": [],
   "source": [
    "alphas = np.array([-0.4, -0.3, -0.23])  # Requires negation of AR parameters\n",
    "betas = np.array([0.])  # Since no MA parameters\n",
    "ar = np.r_[1, alphas]\n",
    "ma = np.r_[1, betas]\n",
    "\n",
    "arma = smt.arma_generate_sample(ar=ar, ma=ma, sigma=0.01, nsample=n_samples) "
   ]
  },
  {
   "cell_type": "code",
   "execution_count": 70,
   "metadata": {},
   "outputs": [
    {
     "data": {
      "text/html": [
       "<div>\n",
       "<style scoped>\n",
       "    .dataframe tbody tr th:only-of-type {\n",
       "        vertical-align: middle;\n",
       "    }\n",
       "\n",
       "    .dataframe tbody tr th {\n",
       "        vertical-align: top;\n",
       "    }\n",
       "\n",
       "    .dataframe thead th {\n",
       "        text-align: right;\n",
       "    }\n",
       "</style>\n",
       "<table border=\"1\" class=\"dataframe\">\n",
       "  <thead>\n",
       "    <tr style=\"text-align: right;\">\n",
       "      <th></th>\n",
       "      <th>mean</th>\n",
       "      <th>variance</th>\n",
       "      <th>p1</th>\n",
       "      <th>p2</th>\n",
       "      <th>p3</th>\n",
       "    </tr>\n",
       "  </thead>\n",
       "  <tbody>\n",
       "    <tr>\n",
       "      <th>ar3_small</th>\n",
       "      <td>0.015454</td>\n",
       "      <td>0.000300</td>\n",
       "      <td>0.775520</td>\n",
       "      <td>0.766394</td>\n",
       "      <td>0.731867</td>\n",
       "    </tr>\n",
       "    <tr>\n",
       "      <th>ar3_large</th>\n",
       "      <td>0.010089</td>\n",
       "      <td>0.000448</td>\n",
       "      <td>0.846144</td>\n",
       "      <td>0.833674</td>\n",
       "      <td>0.817674</td>\n",
       "    </tr>\n",
       "    <tr>\n",
       "      <th>theoretical</th>\n",
       "      <td>0.010000</td>\n",
       "      <td>0.000740</td>\n",
       "      <td>0.845000</td>\n",
       "      <td>0.832000</td>\n",
       "      <td>0.816300</td>\n",
       "    </tr>\n",
       "    <tr>\n",
       "      <th>arima</th>\n",
       "      <td>-0.003705</td>\n",
       "      <td>0.000334</td>\n",
       "      <td>0.778965</td>\n",
       "      <td>0.771327</td>\n",
       "      <td>0.736593</td>\n",
       "    </tr>\n",
       "  </tbody>\n",
       "</table>\n",
       "</div>"
      ],
      "text/plain": [
       "                 mean  variance        p1        p2        p3\n",
       "ar3_small    0.015454  0.000300  0.775520  0.766394  0.731867\n",
       "ar3_large    0.010089  0.000448  0.846144  0.833674  0.817674\n",
       "theoretical  0.010000  0.000740  0.845000  0.832000  0.816300\n",
       "arima       -0.003705  0.000334  0.778965  0.771327  0.736593"
      ]
     },
     "execution_count": 70,
     "metadata": {},
     "output_type": "execute_result"
    }
   ],
   "source": [
    "arima_series = pd.Series({'mean':     empirical_mean(arma), \n",
    "                          'variance': empirical_var(arma), \n",
    "                          'p1':       emprical_ac(arma, 1), \n",
    "                          'p2':       emprical_ac(arma, 2), \n",
    "                          'p3':       emprical_ac(arma, 3)})\n",
    "arima_series.name = 'arima'\n",
    "parameter_table = parameter_table.append(arima_series)\n",
    "parameter_table"
   ]
  },
  {
   "cell_type": "markdown",
   "metadata": {},
   "source": [
    "When using a simulated ARIMA model, (arma_generate_sample for python) our parameter estimation is pretty close to the both the generated AR model and the theoretical parameters. Once subtle issue that was made apparent using arma_generate_sample is it runs into issue with the zero-lag being less than 1. Whenever that is the case, the model converges to infinity after about a hundred sampels. That is why the mean appears off for the ARIMA row."
   ]
  },
  {
   "cell_type": "markdown",
   "metadata": {},
   "source": [
    "# Problem 2"
   ]
  },
  {
   "cell_type": "markdown",
   "metadata": {},
   "source": [
    "![caption](hw2_2.PNG)"
   ]
  },
  {
   "cell_type": "code",
   "execution_count": 13,
   "metadata": {},
   "outputs": [],
   "source": [
    "# (Q3) Different white noise / randomn values?\n",
    "ONE_YEAR, TWO_YEARS, FOUR_YEARS, TEN_YEARS = 252, 500, 1000, 2500\n",
    "data_1year = ar3(alpha1, alpha2, alpha3, white_noise_variance, ONE_YEAR)\n",
    "data_2years = ar3(alpha1, alpha2, alpha3, white_noise_variance, TWO_YEARS)\n",
    "data_4years = ar3(alpha1, alpha2, alpha3, white_noise_variance, FOUR_YEARS)\n",
    "data_10years = ar3(alpha1, alpha2, alpha3, white_noise_variance, TEN_YEARS)\n",
    "ar_data = [data_1year, data_2years, data_4years, data_10years]"
   ]
  },
  {
   "cell_type": "markdown",
   "metadata": {},
   "source": [
    "## 2.A - Construct PACF plots for each process"
   ]
  },
  {
   "cell_type": "code",
   "execution_count": 17,
   "metadata": {},
   "outputs": [
    {
     "data": {
      "image/png": "[encoded data removed]",
      "text/plain": [
       "<Figure size 720x576 with 4 Axes>"
      ]
     },
     "metadata": {},
     "output_type": "display_data"
    }
   ],
   "source": [
    "figsize=(10, 8)\n",
    "style='bmh'\n",
    "\n",
    "def pacf_plot(ar_data, lags=5, title='test'):\n",
    "    data = [pd.Series(d) for d in ar_data]\n",
    "    with plt.style.context(style):\n",
    "        fig = plt.figure(figsize=figsize)\n",
    "        layout = (2, 2)\n",
    "        one_ax = plt.subplot2grid(layout, (0, 0))\n",
    "        two_ax = plt.subplot2grid(layout, (0, 1))\n",
    "        four_ax = plt.subplot2grid(layout, (1, 0))\n",
    "        ten_ax = plt.subplot2grid(layout, (1, 1))  \n",
    "        \n",
    "        one_ax.set_title('One Year')\n",
    "        smt.graphics.plot_pacf(data[0], lags=lags, ax=one_ax, alpha=0.5, title='PACF - One Year')\n",
    "        smt.graphics.plot_pacf(data[1], lags=lags, ax=two_ax, alpha=0.5, title='PACF - Two Years')\n",
    "        smt.graphics.plot_pacf(data[2], lags=lags, ax=four_ax, alpha=0.5, title='PACF - Four Years')\n",
    "        smt.graphics.plot_pacf(data[3], lags=lags, ax=ten_ax, alpha=0.5, title='PACF - Ten Years')\n",
    "        plt.tight_layout()\n",
    "        \n",
    "pacf_plot(ar_data=ar_data, lags=10, title='Test')     "
   ]
  },
  {
   "cell_type": "markdown",
   "metadata": {},
   "source": [
    "The suggested order is AR3 because the partial autocorrelation is essentially 0, outside the randomness provided by the shock for the PACF graphs. The blue shade indicates the 95% confidence interval. Of course some autocorelation terms break outside the confidence interval, but can be expected due to the randomness of the shock. It is clear however that the pattern for each of these PACF graphs is after 3 lags, we no longer see autocorrelation in general."
   ]
  },
  {
   "cell_type": "markdown",
   "metadata": {},
   "source": [
    "## 2.B - Estimate parameters"
   ]
  },
  {
   "cell_type": "code",
   "execution_count": 51,
   "metadata": {},
   "outputs": [],
   "source": [
    "from statsmodels.tsa.ar_model import AR\n",
    "\n",
    "def estimate_ar_params(data):\n",
    "    model = AR(data).fit(maxlag=3)\n",
    "    return {'intercept': model.params[0], 'weight1': model.params[1], 'weight2': model.params[2], 'weight3': model.params[3]}\n",
    "\n",
    "actual_params = [{'intercept': 0.0007, 'weight1': 0.4, 'weight2': 0.3, 'weight3': 0.23}]\n",
    "ar_estimates = [estimate_ar_params(series) for series in ar_data]"
   ]
  },
  {
   "cell_type": "markdown",
   "metadata": {},
   "source": [
    "## 2.C - Display estimated vs actual parameters"
   ]
  },
  {
   "cell_type": "code",
   "execution_count": 52,
   "metadata": {},
   "outputs": [
    {
     "data": {
      "text/html": [
       "<div>\n",
       "<style scoped>\n",
       "    .dataframe tbody tr th:only-of-type {\n",
       "        vertical-align: middle;\n",
       "    }\n",
       "\n",
       "    .dataframe tbody tr th {\n",
       "        vertical-align: top;\n",
       "    }\n",
       "\n",
       "    .dataframe thead th {\n",
       "        text-align: right;\n",
       "    }\n",
       "</style>\n",
       "<table border=\"1\" class=\"dataframe\">\n",
       "  <thead>\n",
       "    <tr style=\"text-align: right;\">\n",
       "      <th></th>\n",
       "      <th>intercept</th>\n",
       "      <th>weight1</th>\n",
       "      <th>weight2</th>\n",
       "      <th>weight3</th>\n",
       "    </tr>\n",
       "  </thead>\n",
       "  <tbody>\n",
       "    <tr>\n",
       "      <th>actual</th>\n",
       "      <td>0.000700</td>\n",
       "      <td>0.400000</td>\n",
       "      <td>0.300000</td>\n",
       "      <td>0.230000</td>\n",
       "    </tr>\n",
       "    <tr>\n",
       "      <th>one_year</th>\n",
       "      <td>0.001827</td>\n",
       "      <td>0.343579</td>\n",
       "      <td>0.258493</td>\n",
       "      <td>0.313085</td>\n",
       "    </tr>\n",
       "    <tr>\n",
       "      <th>two_years</th>\n",
       "      <td>0.000431</td>\n",
       "      <td>0.442147</td>\n",
       "      <td>0.236297</td>\n",
       "      <td>0.253045</td>\n",
       "    </tr>\n",
       "    <tr>\n",
       "      <th>four_years</th>\n",
       "      <td>0.000476</td>\n",
       "      <td>0.384134</td>\n",
       "      <td>0.299096</td>\n",
       "      <td>0.235471</td>\n",
       "    </tr>\n",
       "    <tr>\n",
       "      <th>ten_years</th>\n",
       "      <td>0.001248</td>\n",
       "      <td>0.384720</td>\n",
       "      <td>0.305368</td>\n",
       "      <td>0.237490</td>\n",
       "    </tr>\n",
       "  </tbody>\n",
       "</table>\n",
       "</div>"
      ],
      "text/plain": [
       "            intercept   weight1   weight2   weight3\n",
       "actual       0.000700  0.400000  0.300000  0.230000\n",
       "one_year     0.001827  0.343579  0.258493  0.313085\n",
       "two_years    0.000431  0.442147  0.236297  0.253045\n",
       "four_years   0.000476  0.384134  0.299096  0.235471\n",
       "ten_years    0.001248  0.384720  0.305368  0.237490"
      ]
     },
     "execution_count": 52,
     "metadata": {},
     "output_type": "execute_result"
    }
   ],
   "source": [
    "pd.DataFrame(index=['actual', 'one_year', 'two_years', 'four_years', 'ten_years'], \n",
    "             columns=['intercept', 'weight1', 'weight2', 'weight3'], \n",
    "             data=actual_params + ar_estimates)"
   ]
  },
  {
   "cell_type": "markdown",
   "metadata": {},
   "source": [
    "The general pattern is the emperical paramters will converge to the theoretical as more samples are added. However, even with ten years of data (2500 samples) we still have a rough approximation of the parameters."
   ]
  },
  {
   "cell_type": "markdown",
   "metadata": {},
   "source": [
    "# Problem 3"
   ]
  },
  {
   "cell_type": "markdown",
   "metadata": {},
   "source": [
    "![caption](hw2_3.PNG)"
   ]
  },
  {
   "cell_type": "markdown",
   "metadata": {},
   "source": [
    "## 3.A - Determine the mean and variance of return series"
   ]
  },
  {
   "cell_type": "markdown",
   "metadata": {},
   "source": [
    "![caption](fe542_hw2_3ap1.jpg)"
   ]
  },
  {
   "cell_type": "markdown",
   "metadata": {},
   "source": [
    "## 3.B - Calculate Lag-1 and Lag-2 auttocorrelation of return series"
   ]
  },
  {
   "cell_type": "markdown",
   "metadata": {},
   "source": [
    "![caption](fe542_hw2_3bp1.jpg)\n",
    "![caption](fe542_hw2_3bp2.jpg)"
   ]
  },
  {
   "cell_type": "markdown",
   "metadata": {},
   "source": [
    "## 3.C & 3.D - Compute 1- and 2-step ahead forecasts of return series and the standard deviations of the forecast errors"
   ]
  },
  {
   "cell_type": "markdown",
   "metadata": {},
   "source": [
    "![caption](fe542_hw2_3cd.jpg)"
   ]
  }
 ],
 "metadata": {
  "kernelspec": {
   "display_name": "Python 3",
   "language": "python",
   "name": "python3"
  },
  "language_info": {
   "codemirror_mode": {
    "name": "ipython",
    "version": 3
   },
   "file_extension": ".py",
   "mimetype": "text/x-python",
   "name": "python",
   "nbconvert_exporter": "python",
   "pygments_lexer": "ipython3",
   "version": "3.6.3"
  }
 },
 "nbformat": 4,
 "nbformat_minor": 2
}

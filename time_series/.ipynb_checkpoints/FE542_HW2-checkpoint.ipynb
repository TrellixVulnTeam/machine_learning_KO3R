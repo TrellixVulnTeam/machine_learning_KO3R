{
 "cells": [
  {
   "cell_type": "markdown",
   "metadata": {},
   "source": [
    "## FE542 Time Series Analysis Homework # 2\n",
    "Justin Dano\n",
    "<br>March 3rd, 2019"
   ]
  },
  {
   "cell_type": "markdown",
   "metadata": {},
   "source": [
    "![caption](student_ethics.jpg)"
   ]
  },
  {
   "cell_type": "markdown",
   "metadata": {},
   "source": [
    "# Problem 1"
   ]
  },
  {
   "cell_type": "markdown",
   "metadata": {},
   "source": [
    "![caption](hw2_1.png)"
   ]
  },
  {
   "cell_type": "code",
   "execution_count": 2,
   "metadata": {},
   "outputs": [],
   "source": [
    "import numpy as np\n",
    "import pandas as pd\n",
    "import matplotlib.pyplot as plt\n",
    "import statsmodels.tsa.api as smt\n",
    "\n",
    "from statsmodels.tsa.arima_process import arma_generate_sample\n",
    "np.random.seed(1) "
   ]
  },
  {
   "cell_type": "markdown",
   "metadata": {},
   "source": [
    "## 1.A - Generate terms of AR(3) model"
   ]
  },
  {
   "cell_type": "code",
   "execution_count": 3,
   "metadata": {},
   "outputs": [],
   "source": [
    "def ar3(a1, a2, a3, wnv, sample_size):\n",
    "    \"\"\"\n",
    "    AR(3) model \n",
    "    Params: \n",
    "        a1  -       float : t-1 weight parameter\n",
    "        a2  -       float : t-2 weight parameter\n",
    "        a3  -       float : t-3 weight parameter\n",
    "        wnv -         int : variance for our white noise\n",
    "        sample_size - int : size of process     \n",
    "    Returns:\n",
    "        numpy.Array - AR process\n",
    "    \"\"\"\n",
    "    wn = np.random.normal(scale=np.sqrt(wnv), size=sample_size)  # Numpy takes SD \n",
    "    r = np.zeros(sample_size)\n",
    "    r[1], r[2] = 0.001, -0.001 \n",
    "    \n",
    "    for t in range(3, sample_size):        \n",
    "        r[t] = 0.01 + a1*(r[t-1] - 0.01) + a2*(r[t-2] - 0.01) + a3*(r[t-3] - 0.01) + wn[t]\n",
    "        \n",
    "    return r\n",
    "\n",
    "\n",
    "def empirical_mean(process):\n",
    "    \"\"\"\n",
    "    Estimate mean\n",
    "    \n",
    "    Params:\n",
    "        process  - numpy.Array : The AR process \n",
    "    Returns:\n",
    "        float : the mean of the process\n",
    "    \"\"\"\n",
    "    return process.mean()\n",
    "\n",
    "\n",
    "def empirical_var(process):\n",
    "    \"\"\"\n",
    "    Estimate variance\n",
    "    \n",
    "    Params:\n",
    "        process  - numpy.Array : The AR process \n",
    "    Returns:\n",
    "        float : the variance of the process\n",
    "    \"\"\"\n",
    "    return process.var(ddof=1, dtype=np.float64)\n",
    "\n",
    "\n",
    "def emprical_ac(process, lag_term):\n",
    "    \"\"\"\n",
    "    Estimate autocorrelation\n",
    "    \n",
    "    Params:\n",
    "        process  - numpy.Array : The AR process \n",
    "        lag_term - int         : Auto correlation term\n",
    "    Returns:\n",
    "        float : Pearson autocorrelation \n",
    "    \"\"\"\n",
    "    return pd.Series(process).autocorr(lag_term)"
   ]
  },
  {
   "cell_type": "code",
   "execution_count": 4,
   "metadata": {},
   "outputs": [],
   "source": [
    "n_samples = 1000000\n",
    "white_noise_variance = 0.0001\n",
    "alpha1 = 0.4\n",
    "alpha2 = 0.3\n",
    "alpha3 = 0.23\n",
    "\n",
    "ar_process = ar3(alpha1, alpha2, alpha3, white_noise_variance, n_samples)\n",
    "#plt.plot(ar_process)"
   ]
  },
  {
   "cell_type": "markdown",
   "metadata": {},
   "source": [
    "## 1.B - Estimate mean, variance, and autocorrelation values"
   ]
  },
  {
   "cell_type": "code",
   "execution_count": 5,
   "metadata": {},
   "outputs": [
    {
     "name": "stdout",
     "output_type": "stream",
     "text": [
      "Emperical mean of generated AR process: 0.0101\n",
      "Emperical variance of generated AR process: 0.00044815\n",
      "Emperical autocorrelation for p0 term of generated AR process: 1.0000\n",
      "Emperical autocorrelation for p1 term of generated AR process: 0.8461\n",
      "Emperical autocorrelation for p2 term of generated AR process: 0.8337\n",
      "Emperical autocorrelation for p3 term of generated AR process: 0.8177\n"
     ]
    }
   ],
   "source": [
    "print('Emperical mean of generated AR process: {:0.4f}'.format(empirical_mean(ar_process)))\n",
    "print('Emperical variance of generated AR process: {:0.8f}'.format(empirical_var(ar_process)))\n",
    "print('Emperical autocorrelation for p0 term of generated AR process: {:0.4f}'.format(emprical_ac(ar_process, 0)))\n",
    "print('Emperical autocorrelation for p1 term of generated AR process: {:0.4f}'.format(emprical_ac(ar_process, 1)))\n",
    "print('Emperical autocorrelation for p2 term of generated AR process: {:0.4f}'.format(emprical_ac(ar_process, 2)))\n",
    "print('Emperical autocorrelation for p3 term of generated AR process: {:0.4f}'.format(emprical_ac(ar_process, 3)))"
   ]
  },
  {
   "cell_type": "markdown",
   "metadata": {},
   "source": [
    "## 1.C - Calculate theoretical mean and autocorrelation values"
   ]
  },
  {
   "cell_type": "markdown",
   "metadata": {},
   "source": [
    "![caption](fe542_hw2_1cp1.jpg)\n",
    "![caption](fe542_hw2_1cp2.jpg)"
   ]
  },
  {
   "cell_type": "markdown",
   "metadata": {},
   "source": [
    "## 1.D - ARIMA simulation and compute parameters"
   ]
  },
  {
   "cell_type": "code",
   "execution_count": 6,
   "metadata": {},
   "outputs": [],
   "source": [
    "# Q(1) - What kind of parameters for ARIMA\n",
    "# Q(2) - Use same random values or re-generate?\n",
    "ar_params = [1] #TODO - verify\n",
    "ma_params = [1] #TODO - verify\n",
    "\n",
    "# since its random to start, no need for any differencing, which is why its called arma\n",
    "arima = arma_generate_sample(ar=ar_params, ma=ma_params, nsample=n_samples)"
   ]
  },
  {
   "cell_type": "code",
   "execution_count": 7,
   "metadata": {},
   "outputs": [
    {
     "name": "stdout",
     "output_type": "stream",
     "text": [
      "Emperical mean of generated AR process: -0.0011\n",
      "Emperical variance of generated AR process: 0.9989\n",
      "Emperical autocorrelation for 1st term of generated AR process: -0.0010\n",
      "Emperical autocorrelation for 2nd term of generated AR process: 0.0004\n",
      "Emperical autocorrelation for 3rd term of generated AR process: -0.0005\n"
     ]
    }
   ],
   "source": [
    "arima\n",
    "print('Emperical mean of generated AR process: {:0.4f}'.format(empirical_mean(arima)))\n",
    "print('Emperical variance of generated AR process: {:0.4f}'.format(empirical_var(arima)))\n",
    "print('Emperical autocorrelation for 1st term of generated AR process: {:0.4f}'.format(emprical_ac(arima, 1)))\n",
    "print('Emperical autocorrelation for 2nd term of generated AR process: {:0.4f}'.format(emprical_ac(arima, 2)))\n",
    "print('Emperical autocorrelation for 3rd term of generated AR process: {:0.4f}'.format(emprical_ac(arima, 3)))"
   ]
  },
  {
   "cell_type": "markdown",
   "metadata": {},
   "source": [
    "# Problem 2"
   ]
  },
  {
   "cell_type": "markdown",
   "metadata": {},
   "source": [
    "![caption](hw2_2.PNG)"
   ]
  },
  {
   "cell_type": "code",
   "execution_count": 8,
   "metadata": {},
   "outputs": [],
   "source": [
    "# (Q3) Different white noise / randomn values?\n",
    "ONE_YEAR, TWO_YEARS, FOUR_YEARS, TEN_YEARS = 252, 500, 1000, 2500\n",
    "data_1year = ar3(alpha1, alpha2, alpha3, white_noise_variance, ONE_YEAR)\n",
    "data_2years = ar3(alpha1, alpha2, alpha3, white_noise_variance, TWO_YEARS)\n",
    "data_4years = ar3(alpha1, alpha2, alpha3, white_noise_variance, FOUR_YEARS)\n",
    "data_10years = ar3(alpha1, alpha2, alpha3, white_noise_variance, TEN_YEARS)\n",
    "ar_data = [data_1year, data_2years, data_4years, data_10years]"
   ]
  },
  {
   "cell_type": "code",
   "execution_count": 9,
   "metadata": {},
   "outputs": [
    {
     "data": {
      "text/plain": [
       "[<matplotlib.lines.Line2D at 0x197d4a58>]"
      ]
     },
     "execution_count": 9,
     "metadata": {},
     "output_type": "execute_result"
    },
    {
     "data": {
      "image/png": "[encoded data removed]",
      "text/plain": [
       "<Figure size 432x288 with 1 Axes>"
      ]
     },
     "metadata": {},
     "output_type": "display_data"
    }
   ],
   "source": [
    "plt.plot(data_10years)"
   ]
  },
  {
   "cell_type": "markdown",
   "metadata": {},
   "source": [
    "## 2.A - Construct PACF plots for each process"
   ]
  },
  {
   "cell_type": "code",
   "execution_count": 17,
   "metadata": {},
   "outputs": [
    {
     "data": {
      "image/png": "[encoded data removed]",
      "text/plain": [
       "<Figure size 720x576 with 4 Axes>"
      ]
     },
     "metadata": {},
     "output_type": "display_data"
    }
   ],
   "source": [
    "figsize=(10, 8)\n",
    "style='bmh'\n",
    "\n",
    "def pacf_plot(ar_data, lags=5, title='test'):\n",
    "    data = [pd.Series(d) for d in ar_data]\n",
    "    with plt.style.context(style):\n",
    "        fig = plt.figure(figsize=figsize)\n",
    "        layout = (2, 2)\n",
    "        one_ax = plt.subplot2grid(layout, (0, 0))\n",
    "        two_ax = plt.subplot2grid(layout, (0, 1))\n",
    "        four_ax = plt.subplot2grid(layout, (1, 0))\n",
    "        ten_ax = plt.subplot2grid(layout, (1, 1))  \n",
    "        \n",
    "        one_ax.set_title('One Year')\n",
    "        smt.graphics.plot_pacf(data[0], lags=lags, ax=one_ax, alpha=0.5, title='PACF - One Year')\n",
    "        smt.graphics.plot_pacf(data[1], lags=lags, ax=two_ax, alpha=0.5, title='PACF - Two Years')\n",
    "        smt.graphics.plot_pacf(data[2], lags=lags, ax=four_ax, alpha=0.5, title='PACF - Four Years')\n",
    "        smt.graphics.plot_pacf(data[3], lags=lags, ax=ten_ax, alpha=0.5, title='PACF - Ten Years')\n",
    "        plt.tight_layout()\n",
    "        \n",
    "pacf_plot(ar_data=ar_data, lags=10, title='Test')     "
   ]
  },
  {
   "cell_type": "markdown",
   "metadata": {},
   "source": [
    "Talk about results here"
   ]
  },
  {
   "cell_type": "markdown",
   "metadata": {},
   "source": [
    "## 2.B - Estimate parameters"
   ]
  },
  {
   "cell_type": "code",
   "execution_count": 15,
   "metadata": {},
   "outputs": [],
   "source": [
    "from statsmodels.tsa.ar_model import AR\n",
    "\n",
    "def estimate_ar_params(data):\n",
    "    model = AR(data).fit(maxlag=3)\n",
    "    return {'intercept': model.params[0], 'weight1': model.params[1], 'weight2': model.params[2], 'weight3': model.params[3]}\n",
    "\n",
    "actual_params = [{'intercept': 0.0007, 'weight1': 0.4, 'weight2': 0.3, 'weight3': 0.23}]\n",
    "ar_estimates = [estimate_ar_params(series) for series in ar_data]"
   ]
  },
  {
   "cell_type": "markdown",
   "metadata": {},
   "source": [
    "## 2.C - Display estimated vs actual parameters"
   ]
  },
  {
   "cell_type": "code",
   "execution_count": 16,
   "metadata": {},
   "outputs": [
    {
     "data": {
      "text/html": [
       "<div>\n",
       "<style scoped>\n",
       "    .dataframe tbody tr th:only-of-type {\n",
       "        vertical-align: middle;\n",
       "    }\n",
       "\n",
       "    .dataframe tbody tr th {\n",
       "        vertical-align: top;\n",
       "    }\n",
       "\n",
       "    .dataframe thead th {\n",
       "        text-align: right;\n",
       "    }\n",
       "</style>\n",
       "<table border=\"1\" class=\"dataframe\">\n",
       "  <thead>\n",
       "    <tr style=\"text-align: right;\">\n",
       "      <th></th>\n",
       "      <th>intercept</th>\n",
       "      <th>weight1</th>\n",
       "      <th>weight2</th>\n",
       "      <th>weight3</th>\n",
       "    </tr>\n",
       "  </thead>\n",
       "  <tbody>\n",
       "    <tr>\n",
       "      <th>actual</th>\n",
       "      <td>0.000700</td>\n",
       "      <td>0.400000</td>\n",
       "      <td>0.300000</td>\n",
       "      <td>0.230000</td>\n",
       "    </tr>\n",
       "    <tr>\n",
       "      <th>one_year</th>\n",
       "      <td>0.002520</td>\n",
       "      <td>0.393229</td>\n",
       "      <td>0.299081</td>\n",
       "      <td>0.160102</td>\n",
       "    </tr>\n",
       "    <tr>\n",
       "      <th>two_years</th>\n",
       "      <td>0.000894</td>\n",
       "      <td>0.454248</td>\n",
       "      <td>0.249455</td>\n",
       "      <td>0.191441</td>\n",
       "    </tr>\n",
       "    <tr>\n",
       "      <th>four_years</th>\n",
       "      <td>0.000981</td>\n",
       "      <td>0.447158</td>\n",
       "      <td>0.288511</td>\n",
       "      <td>0.200201</td>\n",
       "    </tr>\n",
       "    <tr>\n",
       "      <th>ten_years</th>\n",
       "      <td>0.001023</td>\n",
       "      <td>0.380925</td>\n",
       "      <td>0.310693</td>\n",
       "      <td>0.238801</td>\n",
       "    </tr>\n",
       "  </tbody>\n",
       "</table>\n",
       "</div>"
      ],
      "text/plain": [
       "            intercept   weight1   weight2   weight3\n",
       "actual       0.000700  0.400000  0.300000  0.230000\n",
       "one_year     0.002520  0.393229  0.299081  0.160102\n",
       "two_years    0.000894  0.454248  0.249455  0.191441\n",
       "four_years   0.000981  0.447158  0.288511  0.200201\n",
       "ten_years    0.001023  0.380925  0.310693  0.238801"
      ]
     },
     "execution_count": 16,
     "metadata": {},
     "output_type": "execute_result"
    }
   ],
   "source": [
    "pd.DataFrame(index=['actual', 'one_year', 'two_years', 'four_years', 'ten_years'], \n",
    "             columns=['intercept', 'weight1', 'weight2', 'weight3'], \n",
    "             data=actual_params + ar_estimates)"
   ]
  },
  {
   "cell_type": "markdown",
   "metadata": {},
   "source": [
    "# Problem 3"
   ]
  },
  {
   "cell_type": "markdown",
   "metadata": {},
   "source": [
    "![caption](hw2_3.PNG)"
   ]
  },
  {
   "cell_type": "markdown",
   "metadata": {},
   "source": [
    "## 3.A - Determine the mean and variance of return series"
   ]
  },
  {
   "cell_type": "markdown",
   "metadata": {},
   "source": [
    "![caption](fe542_hw2_3ap1.jpg)"
   ]
  },
  {
   "cell_type": "markdown",
   "metadata": {},
   "source": [
    "## 3.B - Calculate Lag-1 and Lag-2 auttocorrelation of return series"
   ]
  },
  {
   "cell_type": "markdown",
   "metadata": {},
   "source": [
    "## 3.C - Compute 1- and 2-step ahead forecasts of return series"
   ]
  },
  {
   "cell_type": "markdown",
   "metadata": {},
   "source": [
    "## 3.D - Calculate standard deviations of the forecast errors"
   ]
  }
 ],
 "metadata": {
  "kernelspec": {
   "display_name": "Python 3",
   "language": "python",
   "name": "python3"
  },
  "language_info": {
   "codemirror_mode": {
    "name": "ipython",
    "version": 3
   },
   "file_extension": ".py",
   "mimetype": "text/x-python",
   "name": "python",
   "nbconvert_exporter": "python",
   "pygments_lexer": "ipython3",
   "version": "3.6.3"
  }
 },
 "nbformat": 4,
 "nbformat_minor": 2
}

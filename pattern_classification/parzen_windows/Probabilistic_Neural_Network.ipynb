{
 "cells": [
  {
   "cell_type": "code",
   "execution_count": 3,
   "metadata": {},
   "outputs": [],
   "source": [
    "import pandas as pd\n",
    "import numpy as np\n",
    "from decimal import Decimal\n",
    "from functools import reduce\n",
    "import matplotlib as mpl\n",
    "import matplotlib.pyplot as plt\n",
    "from mpl_toolkits.mplot3d import Axes3D\n",
    "import warnings"
   ]
  },
  {
   "cell_type": "code",
   "execution_count": 2,
   "metadata": {},
   "outputs": [],
   "source": [
    "# Some configuration\n",
    "mpl.style.use('seaborn')\n",
    "np.set_printoptions(formatter={'float': lambda x: \"{0:0.3f}\".format(x)})\n",
    "warnings.filterwarnings('ignore')\n",
    "%matplotlib notebook"
   ]
  },
  {
   "cell_type": "code",
   "execution_count": 1,
   "metadata": {},
   "outputs": [],
   "source": [
    "def get_data():\n",
    "    \"\"\"\n",
    "     Extract data from csv\n",
    "    :return: Tuple of 2-d Numpy Arrays\n",
    "    \"\"\"\n",
    "    d1 = pd.read_csv('hw3_2_1.csv', header=None).transpose().values\n",
    "    d2 = pd.read_csv('hw3_2_2.csv', header=None).transpose().values\n",
    "    return d1, d2"
   ]
  },
  {
   "cell_type": "code",
   "execution_count": 20,
   "metadata": {},
   "outputs": [
    {
     "name": "stdout",
     "output_type": "stream",
     "text": [
      "Total output unit for Class 1: 8.901 and Class 2: 0.000\n",
      "Test Sample:[ 1 -2] belongs to Class 1\n"
     ]
    }
   ],
   "source": [
    "def compute_weight_links(d1, d2):\n",
    "    return np.zeros((len(d1), 2)), np.zeros((len(d2), 2))\n",
    "\n",
    "def normalize_patterns(d, w):\n",
    "    w = d.co\n",
    "    s = np.sqrt(np.square(d[:,0]) + np.square(d[:,1]))\n",
    "    for col in range(d.shape[1]):\n",
    "        w[:,col] = d[:,col] / s\n",
    "    return w\n",
    "\n",
    "\n",
    "def compute_net_activation(w, x):\n",
    "    return np.sum(w * x, axis=1)\n",
    "\n",
    "def activate_function(net, gww):\n",
    "    return np.sum(np.exp((net - 1) / gww**2))\n",
    "\n",
    "\n",
    "def pnn_train(x_w1, x_w2):\n",
    "    d1, d2 = get_data()  \n",
    "    w1, w2 = compute_weights(d1, d2)\n",
    "    n_d1 = normalize_weights(d1, w1)\n",
    "    n_d2 = normalize_weights(d2, w2)\n",
    "    return n_w1, n_w2\n",
    "\n",
    "\n",
    "def pnn_classify(x, w1, w2, gww):\n",
    "    # Normalize test sample\n",
    "    n_x = x / np.sqrt(np.square(x[0]) + np.square(x[1]))\n",
    "    \n",
    "    net1 = compute_net_activation(w1, n_x)\n",
    "    net2 = compute_net_activation(w2, n_x)\n",
    "\n",
    "    g1 = activate_function(net1, gww)\n",
    "    g2 = activate_function(net2, gww)\n",
    "    print('Total output unit for Class 1: {0:0.03f} and Class 2: {1:0.03f}'.format(g1, g2))\n",
    "    if g1 > g2:\n",
    "        print('Test Sample:{} belongs to Class 1'.format(x))\n",
    "    else:\n",
    "        print('Test Sample:{} belongs to Class 2'.format(x))\n",
    "\n",
    "gww = 0.2    \n",
    "d1, d2 = get_data() \n",
    "w1, w2 = pnn_train(d1, d2)\n",
    "test_pattern = np.array([1, -2])\n",
    "pnn_classify(test_pattern, w1, w2, gww)"
   ]
  },
  {
   "cell_type": "code",
   "execution_count": 14,
   "metadata": {},
   "outputs": [],
   "source": [
    "t = d1[0]"
   ]
  },
  {
   "cell_type": "code",
   "execution_count": 30,
   "metadata": {},
   "outputs": [
    {
     "data": {
      "text/plain": [
       "array([1.062, 4.269])"
      ]
     },
     "execution_count": 30,
     "metadata": {},
     "output_type": "execute_result"
    }
   ],
   "source": [
    "t"
   ]
  },
  {
   "cell_type": "code",
   "execution_count": 31,
   "metadata": {},
   "outputs": [
    {
     "data": {
      "text/plain": [
       "4.3991141153645925"
      ]
     },
     "execution_count": 31,
     "metadata": {},
     "output_type": "execute_result"
    }
   ],
   "source": [
    "tot = np.sqrt(t[0]**2 + t[1]**2)\n",
    "tot"
   ]
  },
  {
   "cell_type": "code",
   "execution_count": 41,
   "metadata": {},
   "outputs": [],
   "source": [
    "res = np.sqrt(np.square(t[0]) + np.square(t[1]))"
   ]
  },
  {
   "cell_type": "code",
   "execution_count": 45,
   "metadata": {},
   "outputs": [
    {
     "data": {
      "text/plain": [
       "4.3991141153645925"
      ]
     },
     "execution_count": 45,
     "metadata": {},
     "output_type": "execute_result"
    }
   ],
   "source": [
    "res"
   ]
  },
  {
   "cell_type": "code",
   "execution_count": 46,
   "metadata": {},
   "outputs": [],
   "source": [
    "s1 = np.sqrt(np.square(d1[:,0]) + np.square(d1[:,1]))"
   ]
  },
  {
   "cell_type": "code",
   "execution_count": 49,
   "metadata": {},
   "outputs": [],
   "source": [
    "w1 = np.zeros((len(d1), 2))\n",
    "s1 = np.sqrt(np.square(d1[:,0]) + np.square(d1[:,1]))\n",
    "\n",
    "w2 = np.zeros((len(d2), 2))\n",
    "s2 = np.sqrt(np.square(d2[:,0]) + np.square(d2[:,1]))\n",
    "\n",
    "\n",
    "for col in range(d1.shape[1]):\n",
    "    w1[:,col] = d1[:,col] / s1\n",
    "    w2[:,col] = d2[:,col] / s2\n",
    "    \n"
   ]
  },
  {
   "cell_type": "code",
   "execution_count": 60,
   "metadata": {},
   "outputs": [],
   "source": [
    "test_pattern = np.array([1, -2])"
   ]
  },
  {
   "cell_type": "code",
   "execution_count": 68,
   "metadata": {},
   "outputs": [],
   "source": [
    "ntp = test_pattern / np.sqrt(np.square(test_pattern[0]) + np.square(test_pattern[1]))"
   ]
  },
  {
   "cell_type": "code",
   "execution_count": 69,
   "metadata": {},
   "outputs": [
    {
     "data": {
      "text/plain": [
       "array([0.447, -0.894])"
      ]
     },
     "execution_count": 69,
     "metadata": {},
     "output_type": "execute_result"
    }
   ],
   "source": [
    "ntp"
   ]
  },
  {
   "cell_type": "code",
   "execution_count": 70,
   "metadata": {},
   "outputs": [],
   "source": [
    "# Performs dot product explicitly for each pattern in the numpy array w \n",
    "net1 = np.sum(w1 * ntp, axis=1)\n",
    "net2 = np.sum(w2 * ntp, axis=1)"
   ]
  },
  {
   "cell_type": "code",
   "execution_count": 74,
   "metadata": {},
   "outputs": [],
   "source": [
    "gww = 0.2\n",
    "\n",
    "g1 = np.sum(np.exp((net1 - 1) / gww**2))\n",
    "g2 = np.sum(np.exp((net2 - 1) / gww**2))"
   ]
  },
  {
   "cell_type": "code",
   "execution_count": 75,
   "metadata": {},
   "outputs": [
    {
     "data": {
      "text/plain": [
       "8.900692659086971"
      ]
     },
     "execution_count": 75,
     "metadata": {},
     "output_type": "execute_result"
    }
   ],
   "source": [
    "g1"
   ]
  },
  {
   "cell_type": "code",
   "execution_count": 76,
   "metadata": {},
   "outputs": [
    {
     "data": {
      "text/plain": [
       "1.952172992632013e-09"
      ]
     },
     "execution_count": 76,
     "metadata": {},
     "output_type": "execute_result"
    }
   ],
   "source": [
    "g2"
   ]
  }
 ],
 "metadata": {
  "kernelspec": {
   "display_name": "Python 3",
   "language": "python",
   "name": "python3"
  },
  "language_info": {
   "codemirror_mode": {
    "name": "ipython",
    "version": 3
   },
   "file_extension": ".py",
   "mimetype": "text/x-python",
   "name": "python",
   "nbconvert_exporter": "python",
   "pygments_lexer": "ipython3",
   "version": "3.6.3"
  }
 },
 "nbformat": 4,
 "nbformat_minor": 2
}
